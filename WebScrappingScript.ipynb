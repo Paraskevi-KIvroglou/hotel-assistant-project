{
  "nbformat": 4,
  "nbformat_minor": 0,
  "metadata": {
    "colab": {
      "provenance": [],
      "authorship_tag": "ABX9TyOGuzTwRN/68i3bEylw1Jn+",
      "include_colab_link": true
    },
    "kernelspec": {
      "name": "python3",
      "display_name": "Python 3"
    },
    "language_info": {
      "name": "python"
    }
  },
  "cells": [
    {
      "cell_type": "markdown",
      "metadata": {
        "id": "view-in-github",
        "colab_type": "text"
      },
      "source": [
        "<a href=\"https://colab.research.google.com/github/Paraskevi-KIvroglou/hotel-assistant-project/blob/main/WebScrappingScript.ipynb\" target=\"_parent\"><img src=\"https://colab.research.google.com/assets/colab-badge.svg\" alt=\"Open In Colab\"/></a>"
      ]
    },
    {
      "cell_type": "code",
      "source": [
        "from bs4 import BeautifulSoup\n",
        "import requests\n",
        "import pandas as pd\n",
        "import csv"
      ],
      "metadata": {
        "id": "22_ZmFUv8pfw"
      },
      "execution_count": null,
      "outputs": []
    },
    {
      "cell_type": "code",
      "source": [
        "def Get_HTML_Request_And_Parse(url, headers):\n",
        "  response  = requests.get(url, headers=headers)\n",
        "  soup = BeautifulSoup(response.text, 'html.parser')\n",
        "  return soup"
      ],
      "metadata": {
        "id": "VSVwDrF3BLJm"
      },
      "execution_count": null,
      "outputs": []
    },
    {
      "cell_type": "code",
      "source": [
        "def Find_And_Collect_Elements_From_URL(urlRequest):\n",
        "  hotels = urlRequest.findAll('div', {'data-testid': 'property-card'})\n",
        "\n",
        "  hotels_data = []\n",
        "  # Loop over the hotel elements and extract the desired data\n",
        "  for hotel in hotels:\n",
        "      # Extract the hotel name\n",
        "      name_element = hotel.find('div', {'data-testid': 'title'})\n",
        "      name = name_element.text.strip()\n",
        "\n",
        "      # Extract the hotel location\n",
        "      location_element = hotel.find('span', {'data-testid': 'address'})\n",
        "      location = location_element.text.strip()\n",
        "\n",
        "      # Extract the hotel price\n",
        "      price_element = hotel.find('span', {'data-testid': 'price-and-discounted-price'})\n",
        "      price = price_element.text.strip()\n",
        "\n",
        "      # Extract the hotel rating\n",
        "      rating_element = hotel.find('div', {'class' : 'a3b8729ab1 d86cee9b25'})\n",
        "      rating = rating_element.text.strip()\n",
        "\n",
        "      breakfast_Included_element = hotel.find('span', {'class' : 'a19404c4d7'})\n",
        "      breakfast = ''\n",
        "      isNull = breakfast_Included_element == \"\" or breakfast_Included_element is None\n",
        "      if(isNull != True):\n",
        "        breakfast = breakfast_Included_element.text.strip()\n",
        "\n",
        "      hotels_data.append({\n",
        "          'name': name,\n",
        "          'location': location,\n",
        "          'price': price,\n",
        "          'rating': rating,\n",
        "          'breakfast_included' : breakfast\n",
        "      })\n",
        "  return hotels_data"
      ],
      "metadata": {
        "id": "Kc1q4jdbBt_Y"
      },
      "execution_count": null,
      "outputs": []
    },
    {
      "cell_type": "code",
      "source": [
        "def Main():\n",
        "  list_urls = [\n",
        "      'https://www.booking.com/searchresults.html?ss=London&ssne=London&ssne_untouched=London&efdco=1&label=gog235jc-1FCAEoggI46AdICVgDaFCIAQGYAQm4ARfIAQzYAQHoAQH4AQKIAgGoAgO4ArDuuaEGwAIB0gIkZmJhYjE4YzAtNDdhMy00MmY1LTk2NWItN2UzOTgyNTk1OWEx2AIF4AIB&aid=397594&lang=en-us&sb=1&src_elem=sb&src=searchresults&dest_id=-2601889&dest_type=city&checkin=2024-03-22&checkout=2024-03-23&ltfd=6%3A1%3A%3A%3A1&group_adults=2&no_rooms=1&group_children=0&flex_window=7&selected_currency=EUR',\n",
        "      'https://www.booking.com/searchresults.html?ss=Luxembourg%2C+Luxembourg&ssne=London&ssne_untouched=London&label=gog235jc-1FCAEoggI46AdICVgDaFCIAQGYAQm4ARfIAQzYAQHoAQH4AQKIAgGoAgO4ArDuuaEGwAIB0gIkZmJhYjE4YzAtNDdhMy00MmY1LTk2NWItN2UzOTgyNTk1OWEx2AIF4AIB&aid=397594&lang=en-us&sb=1&src_elem=sb&src=searchresults&dest_id=-1736191&dest_type=city&ac_position=0&ac_click_type=b&ac_langcode=en&ac_suggestion_list_length=5&search_selected=true&search_pageview_id=a66e8378709a0307&ac_meta=GhA2ZmIxODYzMzk2ODcwMDZjIAAoATICZW46Akx1QABKAFAA&checkin=2024-03-22&checkout=2024-03-23&ltfd=6%3A1%3A%3A%3A1&group_adults=2&no_rooms=1&group_children=0&flex_window=7&selected_currency=EUR',\n",
        "      'https://www.booking.com/searchresults.html?ss=Porto%2C+Norte+Region%2C+Portugal&ssne=Luxembourg&ssne_untouched=Luxembourg&label=gog235jc-1FCAEoggI46AdICVgDaFCIAQGYAQm4ARfIAQzYAQHoAQH4AQKIAgGoAgO4ArDuuaEGwAIB0gIkZmJhYjE4YzAtNDdhMy00MmY1LTk2NWItN2UzOTgyNTk1OWEx2AIF4AIB&aid=397594&lang=en-us&sb=1&src_elem=sb&src=searchresults&dest_id=-2173088&dest_type=city&ac_position=0&ac_click_type=b&ac_langcode=en&ac_suggestion_list_length=5&search_selected=true&search_pageview_id=6d1e89175911013a&ac_meta=GhAzODNkMDFlY2M1OTMwMDU2IAAoATICZW46BVBvcnRvQABKAFAA&checkin=2024-03-22&checkout=2024-03-23&ltfd=6%3A1%3A%3A%3A1&group_adults=2&no_rooms=1&group_children=0&flex_window=7&selected_currency=EUR&soz=1&lang_changed=1',\n",
        "      'https://www.booking.com/searchresults.html?label=gog235jc-1FCAEoggI46AdICVgDaFCIAQGYAQm4ARfIAQzYAQHoAQH4AQKIAgGoAgO4ArDuuaEGwAIB0gIkZmJhYjE4YzAtNDdhMy00MmY1LTk2NWItN2UzOTgyNTk1OWEx2AIF4AIB&aid=397594&ss=Barcelona%2C+Catalonia%2C+Spain&ssne=Porto&ssne_untouched=Porto&lang=en-us&src=searchresults&dest_id=-372490&dest_type=city&ac_position=0&ac_click_type=b&ac_langcode=en&ac_suggestion_list_length=5&search_selected=true&search_pageview_id=e9e0020259010110&ac_meta=GhA0YTRmN2YwZDk1ZTIwMGM3IAAoATICZW46CUJhcmNlbG9uYUAASgBQAA%3D%3D&checkin=2024-03-22&checkout=2024-03-23&ltfd=6%3A1%3A%3A%3A1&group_adults=2&no_rooms=1&group_children=0&flex_window=7&nflt=mealplan%3D1&selected_currency=EUR',\n",
        "      'https://www.booking.com/searchresults.html?label=gen173nr-1FCAEoggI46AdIM1gEaDuIAQGYATG4ARfIAQ_YAQHoAQH4AQKIAgGoAgO4At6NyK8GwAIB0gIkYmZlY2FjMjctMjA2MC00NjNlLThkMzctNmVkOWM2OGI1MTQ12AIF4AIB&aid=304142&ss=Paris&ssne=Paris&ssne_untouched=Paris&efdco=1&lang=en-us&src=searchresults&dest_id=-1456928&dest_type=city&checkin=2024-04-25&checkout=2024-04-26&group_adults=2&no_rooms=1&group_children=0&flex_window=7&nflt=ht_id%3D204',\n",
        "      'https://www.booking.com/searchresults.html?ss=Munich%2C+Bavaria%2C+Germany&ssne=Paris&ssne_untouched=Paris&label=gen173nr-1FCAEoggI46AdIM1gEaDuIAQGYATG4ARfIAQ_YAQHoAQH4AQKIAgGoAgO4At6NyK8GwAIB0gIkYmZlY2FjMjctMjA2MC00NjNlLThkMzctNmVkOWM2OGI1MTQ12AIF4AIB&aid=304142&lang=en-us&sb=1&src_elem=sb&src=searchresults&dest_id=-1829149&dest_type=city&ac_position=0&ac_click_type=b&ac_langcode=en&ac_suggestion_list_length=5&search_selected=true&search_pageview_id=3d648d7417cf013e&ac_meta=GhAzZDY0OGQ3NDE3Y2YwMTNlIAAoATICZW46Bk11bmljaEAASgBQAA%3D%3D&checkin=2024-04-25&checkout=2024-04-26&group_adults=2&no_rooms=1&group_children=0&flex_window=7',\n",
        "      'https://www.booking.com/searchresults.html?label=gen173nr-1FCAEoggI46AdIM1gEaDuIAQGYATG4ARfIAQ_YAQHoAQH4AQKIAgGoAgO4At6NyK8GwAIB0gIkYmZlY2FjMjctMjA2MC00NjNlLThkMzctNmVkOWM2OGI1MTQ12AIF4AIB&aid=304142&ss=Berlin%2C+Germany&ssne=Munich&ssne_untouched=Munich&lang=en-us&src=searchresults&dest_id=-1746443&dest_type=city&checkin=2024-04-25&checkout=2024-04-26&group_adults=2&no_rooms=1&group_children=0&flex_window=7&nflt=ht_id%3D204',\n",
        "      'https://www.booking.com/searchresults.html?label=gen173nr-1FCAEoggI46AdIM1gEaDuIAQGYATG4ARfIAQ_YAQHoAQH4AQKIAgGoAgO4At6NyK8GwAIB0gIkYmZlY2FjMjctMjA2MC00NjNlLThkMzctNmVkOWM2OGI1MTQ12AIF4AIB&aid=304142&ss=Frankfurt%2C+Hessen%2C+Germany&ssne=Berlin&ssne_untouched=Berlin&lang=en-us&src=searchresults&dest_id=-1771148&dest_type=city&ac_position=0&ac_click_type=b&ac_langcode=xu&ac_suggestion_list_length=5&search_selected=true&search_pageview_id=62418dea86d502fa&ac_meta=GhA2MjQxOGRlYTg2ZDUwMmZhIAAoATICeHU6BUZyYW5rQABKAFAA&checkin=2024-04-25&checkout=2024-04-26&group_adults=2&no_rooms=1&group_children=0&flex_window=7&nflt=ht_id%3D204',\n",
        "      'https://www.booking.com/searchresults.html?ss=Hamburg%2C+Germany&ssne=Athens&ssne_untouched=Athens&label=gen173nr-1FCAEoggI46AdIM1gEaDuIAQGYATG4ARfIAQ_YAQHoAQH4AQKIAgGoAgO4At6NyK8GwAIB0gIkYmZlY2FjMjctMjA2MC00NjNlLThkMzctNmVkOWM2OGI1MTQ12AIF4AIB&aid=304142&lang=en-us&sb=1&src_elem=sb&src=searchresults&dest_id=-1785434&dest_type=city&checkin=2024-04-25&checkout=2024-04-26&group_adults=2&no_rooms=1&group_children=0&flex_window=7',\n",
        "      'https://www.booking.com/searchresults.html?label=gen173nr-1FCAEoggI46AdIM1gEaDuIAQGYATG4ARfIAQ_YAQHoAQH4AQKIAgGoAgO4At6NyK8GwAIB0gIkYmZlY2FjMjctMjA2MC00NjNlLThkMzctNmVkOWM2OGI1MTQ12AIF4AIB&aid=304142&ss=Heraklio%2C+Heraklio%2C+Greece&ssne=Hamburg&ssne_untouched=Hamburg&efdco=1&lang=en-us&src=searchresults&dest_id=-818172&dest_type=city&ac_position=0&ac_click_type=b&ac_langcode=xu&ac_suggestion_list_length=5&search_selected=true&search_pageview_id=cf5b8eca3bb10216&ac_meta=GhBjZjViOGVjYTNiYjEwMjE2IAAoATICeHU6BEhlcmFAAEoAUAA%3D&checkin=2024-05-23&checkout=2024-05-24&group_adults=2&no_rooms=1&group_children=0&flex_window=7&nflt=ht_id%3D204',\n",
        "      'https://www.booking.com/searchresults.html?ss=Rome%2C+Lazio%2C+Italy&efdco=1&label=gen173nr-1FCAEoggI46AdIM1gEaDuIAQGYATG4ARfIAQ_YAQHoAQH4AQKIAgGoAgO4Avivya8GwAIB0gIkY2M4OTY2YWUtNTE0MS00NWFkLTk5ZDEtYzIzMGE5MTE0YTE22AIF4AIB&aid=304142&lang=en-us&sb=1&src_elem=sb&src=index&dest_id=-126693&dest_type=city&ac_position=0&ac_click_type=b&ac_langcode=en&ac_suggestion_list_length=5&search_selected=true&search_pageview_id=f7130cfc29730049&ac_meta=GhBmNzEzMGNmYzI5NzMwMDQ5IAAoATICZW46BFJvbWVAAEoAUAA%3D&checkin=2024-05-23&checkout=2024-05-24&group_adults=2&no_rooms=1&group_children=0&flex_window=7',\n",
        "      'https://www.booking.com/searchresults.html?ss=Venice&ssne=Rome&ssne_untouched=Rome&label=gen173nr-1FCAEoggI46AdIM1gEaDuIAQGYATG4ARfIAQ_YAQHoAQH4AQKIAgGoAgO4Avivya8GwAIB0gIkY2M4OTY2YWUtNTE0MS00NWFkLTk5ZDEtYzIzMGE5MTE0YTE22AIF4AIB&aid=304142&lang=en-us&sb=1&src_elem=sb&src=searchresults&dest_id=-132007&dest_type=city&ac_position=0&ac_click_type=b&ac_langcode=en&ac_suggestion_list_length=5&search_selected=true&search_pageview_id=78bd0d0ed49a0163&ac_meta=GhA3OGJkMGQwZWQ0OWEwMTYzIAAoATICZW46BlZlbmljZUAASgBQAA%3D%3D&checkin=2024-05-23&checkout=2024-05-24&group_adults=2&no_rooms=1&group_children=0&flex_window=7'\n",
        "  ]\n",
        "  headers = {\n",
        "    'User-Agent': 'Mozilla/5.0 (X11; CrOS x86_64 8172.45.0) AppleWebKit/537.36 (KHTML, like Gecko) Chrome/51.0.2704.64 Safari/537.36',\n",
        "    'Accept-Language': 'en-US, en;q=0.5'\n",
        "  }\n",
        "  hotels_data = []\n",
        "  for url in list_urls:\n",
        "    response = Get_HTML_Request_And_Parse(url, headers)\n",
        "    data_collected_from_url = Find_And_Collect_Elements_From_URL(response)\n",
        "    hotels_data.extend(data_collected_from_url)\n",
        "\n",
        "  #After iteration make one Data frame\n",
        "  hotels = pd.DataFrame(hotels_data)\n",
        "  hotels.head()\n",
        "  hotels.to_csv('list-of-hotels.csv', header=True, index=False)\n",
        "\n",
        "#Call Main()\n",
        "result = Main()\n",
        "print(result)\n"
      ],
      "metadata": {
        "colab": {
          "base_uri": "https://localhost:8080/"
        },
        "id": "P4nGFPB3DBjE",
        "outputId": "2ad8295b-77d1-4dbe-a407-48eae15424e6"
      },
      "execution_count": null,
      "outputs": [
        {
          "output_type": "stream",
          "name": "stdout",
          "text": [
            "None\n"
          ]
        }
      ]
    }
  ]
}